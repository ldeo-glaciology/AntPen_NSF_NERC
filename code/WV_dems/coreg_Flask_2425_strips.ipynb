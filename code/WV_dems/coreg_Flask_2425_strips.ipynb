{
 "cells": [
  {
   "cell_type": "markdown",
   "id": "85b4140c",
   "metadata": {},
   "source": [
    "# Coregister REMA strips from 2024-25 over Flask\n",
    "\n",
    "There are four DEMs from this season. We coregister each one to the DEM from Jan 2nd 2025 using pdem_tools a bedrock mask created by eroding a mask from Quantarctica. \n",
    "\n",
    "This is all done in the script `coreg.py`.\n",
    "\n",
    "Multi-directional hillshades of the coregistered DEMs are computed and saved as tiffs in '../../../remote sensing/worldview/hillshading/Flask_2425/'. "
   ]
  },
  {
   "cell_type": "code",
   "execution_count": null,
   "id": "a37ff007",
   "metadata": {},
   "outputs": [],
   "source": [
    "import os\n",
    "from coreg import coreg_hillshade"
   ]
  },
  {
   "cell_type": "markdown",
   "id": "e8e524e3",
   "metadata": {},
   "source": [
    "## Get a list of the DEM names. "
   ]
  },
  {
   "cell_type": "code",
   "execution_count": null,
   "id": "eb0644bb",
   "metadata": {},
   "outputs": [
    {
     "data": {
      "text/plain": [
       "['WV01_20250220_102001010B8E9300_102001010C0E9B00_2m',\n",
       " 'WV01_20240920_102001010360A300_1020010103D16300_2m',\n",
       " 'WV03_20250125_10400100A1848B00_10400100A1BD5000_2m',\n",
       " 'WV02_20250102_103001010BAF5D00_103001010C7CFB00_2m']"
      ]
     },
     "execution_count": 2,
     "metadata": {},
     "output_type": "execute_result"
    }
   ],
   "source": [
    "directory_names = os.listdir('../../../remote sensing/worldview/6158_2025apr22_Kingslake_2024_25_DEMs/dem')\n",
    "dem_names_lists = [x.split('_')[:-1] for x in directory_names]\n",
    "dem_names = ['_'.join(x) for x in dem_names_lists][1:]\n",
    "dem_names = dem_names[1:]\n",
    "dem_names"
   ]
  },
  {
   "cell_type": "markdown",
   "id": "d0a3d67a",
   "metadata": {},
   "source": [
    "## Coregister and compute hillshades, and save to tif. "
   ]
  },
  {
   "cell_type": "code",
   "execution_count": null,
   "id": "9f75fd6d",
   "metadata": {},
   "outputs": [
    {
     "name": "stdout",
     "output_type": "stream",
     "text": [
      "gathering file paths and dates\n",
      "loading dems\n",
      "eroding bedrock mask\n",
      "coregistering dem_2 to dem_1\n",
      "Planimetric Correction Iteration 1\n",
      "Offset (z,x,y): 0.000, 0.000, 0.000\n",
      "RMSE = 6.670862197875977\n",
      "Planimetric Correction Iteration 2\n",
      "Offset (z,x,y): 2.416, 1.049, 1.686\n",
      "Translating: 2.42 Z, 1.05 X, 1.69 Y\n",
      "RMSE = 6.12545919418335\n",
      "Planimetric Correction Iteration 3\n",
      "Offset (z,x,y): 2.532, 1.348, 2.024\n",
      "Translating: 2.53 Z, 1.35 X, 2.02 Y\n",
      "RMSE = 6.124336242675781\n",
      "Planimetric Correction Iteration 4\n",
      "Offset (z,x,y): 2.565, 1.414, 2.087\n",
      "Translating: 2.57 Z, 1.41 X, 2.09 Y\n",
      "RMSE = 6.123876571655273\n",
      "RMSE step in this iteration (-0.00046) is above threshold (-0.001), stopping and returning values of prior iteration.\n",
      "Final offset (z,x,y): 2.532, 1.348, 2.024\n",
      "Final RMSE = 6.124336242675781\n",
      "computing elevation change\n",
      "computing hillshade\n",
      "gathering file paths and dates\n",
      "loading dems\n",
      "eroding bedrock mask\n",
      "coregistering dem_2 to dem_1\n",
      "Planimetric Correction Iteration 1\n",
      "Offset (z,x,y): 0.000, 0.000, 0.000\n",
      "RMSE = 6.6973347663879395\n",
      "Planimetric Correction Iteration 2\n",
      "Offset (z,x,y): 0.697, 3.715, -0.607\n",
      "Translating: 0.70 Z, 3.72 X, -0.61 Y\n",
      "RMSE = 6.11470890045166\n",
      "Planimetric Correction Iteration 3\n",
      "Offset (z,x,y): 1.284, 4.508, -0.628\n",
      "Translating: 1.28 Z, 4.51 X, -0.63 Y\n",
      "RMSE = 6.086674690246582\n",
      "Planimetric Correction Iteration 4\n",
      "Offset (z,x,y): 1.401, 4.661, -0.610\n",
      "Translating: 1.40 Z, 4.66 X, -0.61 Y\n",
      "RMSE = 6.084022521972656\n",
      "Planimetric Correction Iteration 5\n",
      "Offset (z,x,y): 1.423, 4.687, -0.605\n",
      "Translating: 1.42 Z, 4.69 X, -0.61 Y\n",
      "RMSE = 6.084071159362793\n",
      "RMSE step in this iteration (0.00005) is above threshold (-0.001), stopping and returning values of prior iteration.\n",
      "Final offset (z,x,y): 1.401, 4.661, -0.610\n",
      "Final RMSE = 6.084022521972656\n",
      "computing elevation change\n",
      "computing hillshade\n",
      "gathering file paths and dates\n",
      "loading dems\n",
      "eroding bedrock mask\n",
      "coregistering dem_2 to dem_1\n",
      "Planimetric Correction Iteration 1\n",
      "Offset (z,x,y): 0.000, 0.000, 0.000\n",
      "RMSE = 7.506570816040039\n",
      "Planimetric Correction Iteration 2\n",
      "Offset (z,x,y): 0.075, 2.561, 3.482\n",
      "Translating: 0.08 Z, 2.56 X, 3.48 Y\n",
      "RMSE = 6.758373737335205\n",
      "Planimetric Correction Iteration 3\n",
      "Offset (z,x,y): 0.397, 3.438, 4.305\n",
      "Translating: 0.40 Z, 3.44 X, 4.30 Y\n",
      "RMSE = 6.691959381103516\n",
      "Planimetric Correction Iteration 4\n",
      "Offset (z,x,y): 0.503, 3.666, 4.472\n",
      "Translating: 0.50 Z, 3.67 X, 4.47 Y\n",
      "RMSE = 6.6856865882873535\n",
      "Planimetric Correction Iteration 5\n",
      "Offset (z,x,y): 0.532, 3.724, 4.508\n",
      "Translating: 0.53 Z, 3.72 X, 4.51 Y\n",
      "RMSE = 6.684952735900879\n",
      "RMSE step in this iteration (-0.00073) is above threshold (-0.001), stopping and returning values of prior iteration.\n",
      "Final offset (z,x,y): 0.503, 3.666, 4.472\n",
      "Final RMSE = 6.6856865882873535\n",
      "computing elevation change\n",
      "computing hillshade\n"
     ]
    }
   ],
   "source": [
    "ds = coreg_hillshade(dem_names[3], dem_names[2]) # script takes two DEMs as aurguements. It coregisters the second to the first. \n",
    "\n",
    "ds.hillshade_1.rio.to_raster(f'../../../remote sensing/worldview/hillshading/Flask_2425/hillshade_{ds.hillshade_1.date}.tif')\n",
    "ds.hillshade_2.rio.to_raster(f'../../../remote sensing/worldview/hillshading/Flask_2425/hillshade_{ds.hillshade_2.date}.tif')\n",
    "\n",
    "ds = coreg_hillshade(dem_names[3], dem_names[1])\n",
    "ds.hillshade_2.rio.to_raster(f'../../../remote sensing/worldview/hillshading/Flask_2425/hillshade_{ds.hillshade_2.date}.tif')\n",
    "\n",
    "ds = coreg_hillshade(dem_names[3], dem_names[0])\n",
    "ds.hillshade_2.rio.to_raster(f'../../../remote sensing/worldview/hillshading/Flask_2425/hillshade_{ds.hillshade_2.date}.tif')\n",
    "\n"
   ]
  }
 ],
 "metadata": {
  "kernelspec": {
   "display_name": "pdem_tools",
   "language": "python",
   "name": "python3"
  },
  "language_info": {
   "codemirror_mode": {
    "name": "ipython",
    "version": 3
   },
   "file_extension": ".py",
   "mimetype": "text/x-python",
   "name": "python",
   "nbconvert_exporter": "python",
   "pygments_lexer": "ipython3",
   "version": "3.13.3"
  }
 },
 "nbformat": 4,
 "nbformat_minor": 5
}
