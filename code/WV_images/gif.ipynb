{
 "cells": [
  {
   "cell_type": "code",
   "execution_count": 1,
   "metadata": {},
   "outputs": [],
   "source": [
    "from PIL import Image\n",
    "\n",
    "# Load images\n",
    "frame1 = Image.open(\"../../../remote sensing/worldview/6155_2025apr15_Kingslake_2024_25_Imagery/gif/image1.png\")\n",
    "frame2 = Image.open(\"../../../remote sensing/worldview/6155_2025apr15_Kingslake_2024_25_Imagery/gif/image2.png\")\n",
    "\n",
    "# Save as GIF\n",
    "frame1.save(\n",
    "    \"animation.gif\",\n",
    "    save_all=True,\n",
    "    append_images=[frame2],\n",
    "    duration=500,  # milliseconds per frame\n",
    "    loop=0\n",
    ")"
   ]
  },
  {
   "cell_type": "code",
   "execution_count": null,
   "metadata": {},
   "outputs": [],
   "source": []
  },
  {
   "cell_type": "code",
   "execution_count": null,
   "metadata": {},
   "outputs": [],
   "source": []
  }
 ],
 "metadata": {
  "kernelspec": {
   "display_name": "pdem_tools",
   "language": "python",
   "name": "python3"
  },
  "language_info": {
   "codemirror_mode": {
    "name": "ipython",
    "version": 3
   },
   "file_extension": ".py",
   "mimetype": "text/x-python",
   "name": "python",
   "nbconvert_exporter": "python",
   "pygments_lexer": "ipython3",
   "version": "3.13.3"
  }
 },
 "nbformat": 4,
 "nbformat_minor": 2
}
