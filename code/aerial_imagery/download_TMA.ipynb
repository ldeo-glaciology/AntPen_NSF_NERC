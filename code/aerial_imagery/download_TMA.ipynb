{
 "cells": [
  {
   "cell_type": "code",
   "execution_count": 3,
   "metadata": {},
   "outputs": [],
   "source": [
    "import urllib.request\n",
    "import os\n",
    "from PIL import Image\n",
    "import glob"
   ]
  },
  {
   "cell_type": "code",
   "execution_count": 60,
   "metadata": {},
   "outputs": [
    {
     "data": {
      "text/plain": [
       "['https://data.pgc.umn.edu/aerial/usgs/tma/photos/prev/CA2149/CA214933R/CA214933R0150_preview.jpg',\n",
       " 'https://data.pgc.umn.edu/aerial/usgs/tma/photos/prev/CA2149/CA214933R/CA214933R0151_preview.jpg',\n",
       " 'https://data.pgc.umn.edu/aerial/usgs/tma/photos/prev/CA2149/CA214933R/CA214933R0152_preview.jpg',\n",
       " 'https://data.pgc.umn.edu/aerial/usgs/tma/photos/prev/CA2149/CA214933R/CA214933R0153_preview.jpg',\n",
       " 'https://data.pgc.umn.edu/aerial/usgs/tma/photos/prev/CA2149/CA214933R/CA214933R0154_preview.jpg',\n",
       " 'https://data.pgc.umn.edu/aerial/usgs/tma/photos/prev/CA2149/CA214933R/CA214933R0155_preview.jpg',\n",
       " 'https://data.pgc.umn.edu/aerial/usgs/tma/photos/prev/CA2149/CA214933R/CA214933R0156_preview.jpg',\n",
       " 'https://data.pgc.umn.edu/aerial/usgs/tma/photos/prev/CA2149/CA214933R/CA214933R0157_preview.jpg',\n",
       " 'https://data.pgc.umn.edu/aerial/usgs/tma/photos/prev/CA2149/CA214933R/CA214933R0158_preview.jpg',\n",
       " 'https://data.pgc.umn.edu/aerial/usgs/tma/photos/prev/CA2149/CA214933R/CA214933R0159_preview.jpg',\n",
       " 'https://data.pgc.umn.edu/aerial/usgs/tma/photos/prev/CA2149/CA214933R/CA214933R0160_preview.jpg',\n",
       " 'https://data.pgc.umn.edu/aerial/usgs/tma/photos/prev/CA2149/CA214933R/CA214933R0161_preview.jpg',\n",
       " 'https://data.pgc.umn.edu/aerial/usgs/tma/photos/prev/CA2149/CA214933R/CA214933R0162_preview.jpg',\n",
       " 'https://data.pgc.umn.edu/aerial/usgs/tma/photos/prev/CA2149/CA214933R/CA214933R0163_preview.jpg',\n",
       " 'https://data.pgc.umn.edu/aerial/usgs/tma/photos/prev/CA2149/CA214933R/CA214933R0164_preview.jpg',\n",
       " 'https://data.pgc.umn.edu/aerial/usgs/tma/photos/prev/CA2149/CA214933R/CA214933R0165_preview.jpg',\n",
       " 'https://data.pgc.umn.edu/aerial/usgs/tma/photos/prev/CA2149/CA214933R/CA214933R0166_preview.jpg',\n",
       " 'https://data.pgc.umn.edu/aerial/usgs/tma/photos/prev/CA2149/CA214933R/CA214933R0167_preview.jpg',\n",
       " 'https://data.pgc.umn.edu/aerial/usgs/tma/photos/prev/CA2149/CA214933R/CA214933R0168_preview.jpg',\n",
       " 'https://data.pgc.umn.edu/aerial/usgs/tma/photos/prev/CA2149/CA214933R/CA214933R0169_preview.jpg',\n",
       " 'https://data.pgc.umn.edu/aerial/usgs/tma/photos/prev/CA2149/CA214933R/CA214933R0170_preview.jpg',\n",
       " 'https://data.pgc.umn.edu/aerial/usgs/tma/photos/prev/CA2149/CA214933R/CA214933R0171_preview.jpg',\n",
       " 'https://data.pgc.umn.edu/aerial/usgs/tma/photos/prev/CA2149/CA214933R/CA214933R0172_preview.jpg',\n",
       " 'https://data.pgc.umn.edu/aerial/usgs/tma/photos/prev/CA2149/CA214933R/CA214933R0173_preview.jpg',\n",
       " 'https://data.pgc.umn.edu/aerial/usgs/tma/photos/prev/CA2149/CA214933R/CA214933R0174_preview.jpg',\n",
       " 'https://data.pgc.umn.edu/aerial/usgs/tma/photos/prev/CA2149/CA214933R/CA214933R0175_preview.jpg',\n",
       " 'https://data.pgc.umn.edu/aerial/usgs/tma/photos/prev/CA2149/CA214933R/CA214933R0176_preview.jpg',\n",
       " 'https://data.pgc.umn.edu/aerial/usgs/tma/photos/prev/CA2149/CA214933R/CA214933R0177_preview.jpg',\n",
       " 'https://data.pgc.umn.edu/aerial/usgs/tma/photos/prev/CA2149/CA214933R/CA214933R0178_preview.jpg',\n",
       " 'https://data.pgc.umn.edu/aerial/usgs/tma/photos/prev/CA2149/CA214933R/CA214933R0179_preview.jpg']"
      ]
     },
     "execution_count": 60,
     "metadata": {},
     "output_type": "execute_result"
    }
   ],
   "source": [
    "flightline = \"CA2149/CA214933R\"\n",
    "photo_prefix ='CA214933R0'\n",
    "photo_numbers = range(150,180)\n",
    "folder = \"/Users/jkingslake/Documents/projects/current_projects/AntPen_NSF_NERC/historical_aerial_imagery/low_res/flask_looking_upstream_low_res\"\n",
    "\n",
    "urls = [\"https://data.pgc.umn.edu/aerial/usgs/tma/photos/prev/CA2149/CA214933R/CA214933R0\" + str(photo_number) + \"_preview.jpg\"\n",
    "        for photo_number in photo_numbers]\n",
    "\n",
    "urls = [f\"https://data.pgc.umn.edu/aerial/usgs/tma/photos/prev/{flightline}/{photo_prefix}{photo_number:03n}_preview.jpg\"\n",
    "        for photo_number in photo_numbers]\n",
    "urls"
   ]
  },
  {
   "cell_type": "code",
   "execution_count": null,
   "metadata": {},
   "outputs": [],
   "source": [
    "\n",
    "filenames = [os.path.join(folder, url.split(\"/\")[-1]) for url in urls]\n",
    "\n",
    "for url in urls:\n",
    "    filename = os.path.join(folder, url.split(\"/\")[-1])\n",
    "    urllib.request.urlretrieve(url, filename=filename)\n",
    "\n",
    "# Open the images and append them to a list\n",
    "images = [Image.open(jpg) for jpg in filenames]\n",
    "\n",
    "# Save as GIF\n",
    "images[0].save(\"output.gif\", save_all=True, append_images=images, duration=300, loop=0)\n"
   ]
  },
  {
   "cell_type": "code",
   "execution_count": 51,
   "metadata": {},
   "outputs": [
    {
     "data": {
      "text/plain": [
       "'010'"
      ]
     },
     "execution_count": 51,
     "metadata": {},
     "output_type": "execute_result"
    }
   ],
   "source": [
    "f\"{10:03n}\""
   ]
  },
  {
   "cell_type": "code",
   "execution_count": 55,
   "metadata": {},
   "outputs": [
    {
     "data": {
      "text/plain": [
       "['https://data.pgc.umn.edu/aerial/usgs/tma/photos/prev/CA2137/CA213731L/CA213731L0077_preview.jpg',\n",
       " 'https://data.pgc.umn.edu/aerial/usgs/tma/photos/prev/CA2137/CA213731L/CA213731L0078_preview.jpg',\n",
       " 'https://data.pgc.umn.edu/aerial/usgs/tma/photos/prev/CA2137/CA213731L/CA213731L0079_preview.jpg',\n",
       " 'https://data.pgc.umn.edu/aerial/usgs/tma/photos/prev/CA2137/CA213731L/CA213731L0080_preview.jpg',\n",
       " 'https://data.pgc.umn.edu/aerial/usgs/tma/photos/prev/CA2137/CA213731L/CA213731L0081_preview.jpg',\n",
       " 'https://data.pgc.umn.edu/aerial/usgs/tma/photos/prev/CA2137/CA213731L/CA213731L0082_preview.jpg',\n",
       " 'https://data.pgc.umn.edu/aerial/usgs/tma/photos/prev/CA2137/CA213731L/CA213731L0083_preview.jpg',\n",
       " 'https://data.pgc.umn.edu/aerial/usgs/tma/photos/prev/CA2137/CA213731L/CA213731L0084_preview.jpg',\n",
       " 'https://data.pgc.umn.edu/aerial/usgs/tma/photos/prev/CA2137/CA213731L/CA213731L0085_preview.jpg',\n",
       " 'https://data.pgc.umn.edu/aerial/usgs/tma/photos/prev/CA2137/CA213731L/CA213731L0086_preview.jpg',\n",
       " 'https://data.pgc.umn.edu/aerial/usgs/tma/photos/prev/CA2137/CA213731L/CA213731L0087_preview.jpg',\n",
       " 'https://data.pgc.umn.edu/aerial/usgs/tma/photos/prev/CA2137/CA213731L/CA213731L0088_preview.jpg',\n",
       " 'https://data.pgc.umn.edu/aerial/usgs/tma/photos/prev/CA2137/CA213731L/CA213731L0089_preview.jpg',\n",
       " 'https://data.pgc.umn.edu/aerial/usgs/tma/photos/prev/CA2137/CA213731L/CA213731L0090_preview.jpg',\n",
       " 'https://data.pgc.umn.edu/aerial/usgs/tma/photos/prev/CA2137/CA213731L/CA213731L0091_preview.jpg',\n",
       " 'https://data.pgc.umn.edu/aerial/usgs/tma/photos/prev/CA2137/CA213731L/CA213731L0092_preview.jpg',\n",
       " 'https://data.pgc.umn.edu/aerial/usgs/tma/photos/prev/CA2137/CA213731L/CA213731L0093_preview.jpg',\n",
       " 'https://data.pgc.umn.edu/aerial/usgs/tma/photos/prev/CA2137/CA213731L/CA213731L0094_preview.jpg',\n",
       " 'https://data.pgc.umn.edu/aerial/usgs/tma/photos/prev/CA2137/CA213731L/CA213731L0095_preview.jpg',\n",
       " 'https://data.pgc.umn.edu/aerial/usgs/tma/photos/prev/CA2137/CA213731L/CA213731L0096_preview.jpg',\n",
       " 'https://data.pgc.umn.edu/aerial/usgs/tma/photos/prev/CA2137/CA213731L/CA213731L0097_preview.jpg',\n",
       " 'https://data.pgc.umn.edu/aerial/usgs/tma/photos/prev/CA2137/CA213731L/CA213731L0098_preview.jpg',\n",
       " 'https://data.pgc.umn.edu/aerial/usgs/tma/photos/prev/CA2137/CA213731L/CA213731L0099_preview.jpg',\n",
       " 'https://data.pgc.umn.edu/aerial/usgs/tma/photos/prev/CA2137/CA213731L/CA213731L0100_preview.jpg',\n",
       " 'https://data.pgc.umn.edu/aerial/usgs/tma/photos/prev/CA2137/CA213731L/CA213731L0101_preview.jpg',\n",
       " 'https://data.pgc.umn.edu/aerial/usgs/tma/photos/prev/CA2137/CA213731L/CA213731L0102_preview.jpg',\n",
       " 'https://data.pgc.umn.edu/aerial/usgs/tma/photos/prev/CA2137/CA213731L/CA213731L0103_preview.jpg',\n",
       " 'https://data.pgc.umn.edu/aerial/usgs/tma/photos/prev/CA2137/CA213731L/CA213731L0104_preview.jpg',\n",
       " 'https://data.pgc.umn.edu/aerial/usgs/tma/photos/prev/CA2137/CA213731L/CA213731L0105_preview.jpg',\n",
       " 'https://data.pgc.umn.edu/aerial/usgs/tma/photos/prev/CA2137/CA213731L/CA213731L0106_preview.jpg',\n",
       " 'https://data.pgc.umn.edu/aerial/usgs/tma/photos/prev/CA2137/CA213731L/CA213731L0107_preview.jpg']"
      ]
     },
     "execution_count": 55,
     "metadata": {},
     "output_type": "execute_result"
    }
   ],
   "source": [
    "flightline = \"CA2137/CA213731L\" \n",
    "photo_prefix = \"CA213731L0\"\n",
    "photo_numbers = range(77,108)\n",
    "folder = \"/Users/jkingslake/Documents/projects/current_projects/AntPen_NSF_NERC/historical_aerial_imagery/low_res/flask_looking_downstream_low_res\"\n",
    "\n",
    "urls = [f\"https://data.pgc.umn.edu/aerial/usgs/tma/photos/prev/{flightline}/{photo_prefix}{photo_number:03n}_preview.jpg\"\n",
    "        for photo_number in photo_numbers]\n",
    "urls\n",
    "#https://data.pgc.umn.edu/aerial/usgs/tma/photos/prev/CA2137/CA213731L/CA213731L0091_preview.jpg"
   ]
  },
  {
   "cell_type": "code",
   "execution_count": 56,
   "metadata": {},
   "outputs": [],
   "source": [
    "\n",
    "filenames = [os.path.join(folder, url.split(\"/\")[-1]) for url in urls]\n",
    "\n",
    "for url in urls:\n",
    "    filename = os.path.join(folder, url.split(\"/\")[-1])\n",
    "    urllib.request.urlretrieve(url, filename=filename)\n",
    "\n",
    "# Open the images and append them to a list\n",
    "images = [Image.open(jpg) for jpg in filenames]\n",
    "\n",
    "# Save as GIF\n",
    "images[0].save(folder + '/' + \"output.gif\", save_all=True, append_images=images, duration=300, loop=0)\n"
   ]
  },
  {
   "cell_type": "code",
   "execution_count": 29,
   "metadata": {},
   "outputs": [
    {
     "data": {
      "text/plain": [
       "'https://data.pgc.umn.edu/aerial/usgs/tma/photos/prev/CA2137/CA213731L/CA213731L00100_preview.jpg'"
      ]
     },
     "execution_count": 29,
     "metadata": {},
     "output_type": "execute_result"
    }
   ],
   "source": [
    "url"
   ]
  }
 ],
 "metadata": {
  "kernelspec": {
   "display_name": "full_py_env",
   "language": "python",
   "name": "python3"
  },
  "language_info": {
   "codemirror_mode": {
    "name": "ipython",
    "version": 3
   },
   "file_extension": ".py",
   "mimetype": "text/x-python",
   "name": "python",
   "nbconvert_exporter": "python",
   "pygments_lexer": "ipython3",
   "version": "3.11.11"
  }
 },
 "nbformat": 4,
 "nbformat_minor": 2
}
