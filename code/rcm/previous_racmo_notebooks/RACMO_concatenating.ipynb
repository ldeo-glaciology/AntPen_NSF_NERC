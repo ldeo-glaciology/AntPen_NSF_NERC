{
 "cells": [
  {
   "cell_type": "code",
   "execution_count": 1,
   "id": "7da354b8-3404-43b0-b38c-110a28dd13f4",
   "metadata": {},
   "outputs": [],
   "source": [
    "import numpy as np\n",
    "import xarray as xr\n",
    "import warnings\n",
    "import fsspec\n",
    "warnings.filterwarnings(\"ignore\")"
   ]
  },
  {
   "cell_type": "code",
   "execution_count": 2,
   "id": "972ab8c7-83d6-4cd2-aee1-1638f098bce8",
   "metadata": {},
   "outputs": [
    {
     "name": "stdout",
     "output_type": "stream",
     "text": [
      "Stored 'token' (dict)\n"
     ]
    }
   ],
   "source": [
    "run token.ipynb"
   ]
  },
  {
   "cell_type": "markdown",
   "id": "d6b7bceb-a66a-4633-ae1b-9a20950cc6dd",
   "metadata": {},
   "source": [
    "### Daily precip, smb, snowfall, subl, t2m, and tskin data\n",
    "\n",
    "daily data from 1979-2018"
   ]
  },
  {
   "cell_type": "markdown",
   "id": "8f184830-e8ea-4a14-941b-b121aa50eef0",
   "metadata": {},
   "source": [
    "#### Reading in files"
   ]
  },
  {
   "cell_type": "code",
   "execution_count": 3,
   "id": "b1ded0e1-6865-42d9-8b07-36284c7b36b0",
   "metadata": {
    "tags": []
   },
   "outputs": [],
   "source": [
    "data_loc = '/home/jovyan/data/RACMO/daily/'\n",
    "\n",
    "var_names = np.array(['precip','smb','snowfall','snowmelt','subl','t2m','tskin'])\n",
    "year_strings = np.array(['1979','1981','1991','2001','2011'])"
   ]
  },
  {
   "cell_type": "code",
   "execution_count": 4,
   "id": "c4fd5c54-e250-4b25-a10c-a421b8dc312f",
   "metadata": {},
   "outputs": [],
   "source": [
    "racmo_dict={}\n",
    "for var in var_names:\n",
    "    filename_array = np.array([])\n",
    "    for year in year_strings:\n",
    "        fname = data_loc + var + '.KNMI-' + year + '.XPEN055.ERAINx_RACMO2.3p2.DD.nc'\n",
    "        filename_array = np.append(filename_array,fname)\n",
    "    racmo_var = xr.open_mfdataset(filename_array,combine='nested',compat='override')\n",
    "    racmo_dict[var] = racmo_var"
   ]
  },
  {
   "cell_type": "code",
   "execution_count": 5,
   "id": "c47f5a9a-a02e-4b4b-9787-b4cca968a6df",
   "metadata": {},
   "outputs": [],
   "source": [
    "racmo_1 = xr.merge([racmo_dict[key] for key in racmo_dict],compat='override')"
   ]
  },
  {
   "cell_type": "markdown",
   "id": "2ea628bd-7ee9-428e-b59c-7f9ecb3618d9",
   "metadata": {},
   "source": [
    "#### Splitting up chunks"
   ]
  },
  {
   "cell_type": "code",
   "execution_count": 6,
   "id": "c02e83d4-0c3e-47bc-8602-498a9ce95178",
   "metadata": {},
   "outputs": [],
   "source": [
    "da_names = list(racmo_1.data_vars.keys())\n",
    "new_chunk_sizes = {\n",
    "    'dir':{'rlat':100,'rlon':100},\n",
    "    'time_bnds':{'time':2000},\n",
    "    'dtg':{'time':2000},\n",
    "    'date_bnds':{'time':2000},\n",
    "    'hms_bnds':{'time':2000},\n",
    "    'assigned':{'time':2000},\n",
    "    'rotated_pole':{},\n",
    "    'precip':{'time':2000,'rlat':100,'rlon':100},\n",
    "    'smb':{'time':2000,'rlat':100,'rlon':100},\n",
    "    'snowfall':{'time':2000,'rlat':100,'rlon':100},\n",
    "    'snowmelt':{'time':2000,'rlat':100,'rlon':100},\n",
    "    'subl':{'time':2000,'rlat':100,'rlon':100},\n",
    "    't2m':{'time':2000,'rlat':100,'rlon':100},\n",
    "    'tskin':{'time':2000,'rlat':100,'rlon':100},\n",
    "}"
   ]
  },
  {
   "cell_type": "code",
   "execution_count": 7,
   "id": "253a3da3-c887-4364-a192-84b0ed52d2b9",
   "metadata": {},
   "outputs": [],
   "source": [
    "racmo = xr.Dataset()\n",
    "for da_name in da_names:\n",
    "    da = racmo_1[da_name]\n",
    "    da_chunked = da.chunk(new_chunk_sizes.get(da_name,{}))\n",
    "    racmo[da_name] = da_chunked"
   ]
  },
  {
   "cell_type": "code",
   "execution_count": 8,
   "id": "fd442f4e-228f-4f03-970b-83e80d31027d",
   "metadata": {},
   "outputs": [
    {
     "data": {
      "text/plain": [
       "((2000, 2000, 2000, 2000, 2000, 2000, 2000, 853),\n",
       " (1,),\n",
       " (100, 100, 100, 100, 54),\n",
       " (100, 100, 100, 100, 100, 1))"
      ]
     },
     "execution_count": 8,
     "metadata": {},
     "output_type": "execute_result"
    }
   ],
   "source": [
    "racmo.t2m.chunks"
   ]
  },
  {
   "cell_type": "code",
   "execution_count": 9,
   "id": "8336036c-5485-4299-b48a-4694a4ad3df5",
   "metadata": {},
   "outputs": [
    {
     "data": {
      "text/plain": [
       "94.60101706"
      ]
     },
     "execution_count": 9,
     "metadata": {},
     "output_type": "execute_result"
    }
   ],
   "source": [
    "racmo.nbytes/1e9"
   ]
  },
  {
   "cell_type": "markdown",
   "id": "ebf1159e-4de1-4dbc-a794-45d8934f070c",
   "metadata": {},
   "source": [
    "#### Writing to Google Bucket"
   ]
  },
  {
   "cell_type": "code",
   "execution_count": null,
   "id": "6de15137-8d63-4cf6-8b06-590f0b6bed8f",
   "metadata": {},
   "outputs": [],
   "source": [
    "filename = 'gs://ldeo-glaciology/RACMO/AP_new'\n",
    "mapper = fsspec.get_mapper(filename, mode='w',token=token)\n",
    "racmo.to_zarr(mapper)"
   ]
  },
  {
   "cell_type": "markdown",
   "id": "17f3c099-5f5b-4747-b734-74d13866c2e8",
   "metadata": {
    "tags": []
   },
   "source": [
    "### 3-hourly t2m data\n",
    "\n",
    "For 2m atmospheric temperature, we have 3-hour resolution data  from 2016-2021. This is loaded into a separate dataset below."
   ]
  },
  {
   "cell_type": "markdown",
   "id": "74d14ce5-b2ff-462e-9490-a57f4a593134",
   "metadata": {},
   "source": [
    "#### Reading in files"
   ]
  },
  {
   "cell_type": "code",
   "execution_count": 10,
   "id": "06eb9b5e-a7cd-465f-89fa-2970ffb20fbd",
   "metadata": {},
   "outputs": [],
   "source": [
    "data_loc = '/home/jovyan/data/RACMO/t2m/'\n",
    "\n",
    "year_strings = np.array(['2016','2021'])"
   ]
  },
  {
   "cell_type": "code",
   "execution_count": 11,
   "id": "616385a7-4cc7-4f4c-9bc5-01ec347a8e5e",
   "metadata": {},
   "outputs": [],
   "source": [
    "racmo_3H_dict={}\n",
    "filename_array = np.array([])\n",
    "for year in year_strings:\n",
    "    fname = data_loc + 't2m.KNMI-' + year + '.XPEN055.ERA5-3H_RACMO2.3p2.3H.nc'\n",
    "    filename_array = np.append(filename_array,fname)\n",
    "racmo_3H_1 = xr.open_mfdataset(filename_array,combine='nested',compat='override')"
   ]
  },
  {
   "cell_type": "markdown",
   "id": "1c17838d-1f36-475f-9414-7ad759673258",
   "metadata": {},
   "source": [
    "#### Splitting up chunks"
   ]
  },
  {
   "cell_type": "code",
   "execution_count": 12,
   "id": "acacea6d-e2de-4c52-a310-2016c06c608f",
   "metadata": {},
   "outputs": [],
   "source": [
    "da_names = list(racmo_3H_1.data_vars.keys())\n",
    "new_chunk_sizes = {\n",
    "    'dir':{'rlat':100,'rlon':100},\n",
    "    'time_bnds':{'time':2000},\n",
    "    'dtg':{'time':2000},\n",
    "    'date_bnds':{'time':2000},\n",
    "    'hms_bnds':{'time':2000},\n",
    "    'assigned':{'time':2000},\n",
    "    'rotated_pole':{},\n",
    "    'precip':{'time':2000,'rlat':100,'rlon':100},\n",
    "    'smb':{'time':2000,'rlat':100,'rlon':100},\n",
    "    'snowfall':{'time':2000,'rlat':100,'rlon':100},\n",
    "    'snowmelt':{'time':2000,'rlat':100,'rlon':100},\n",
    "    'subl':{'time':2000,'rlat':100,'rlon':100},\n",
    "    't2m':{'time':2000,'rlat':100,'rlon':100},\n",
    "    'tskin':{'time':2000,'rlat':100,'rlon':100},\n",
    "}"
   ]
  },
  {
   "cell_type": "code",
   "execution_count": 13,
   "id": "e2b0ae09-123d-4c9b-8d08-2a5c1067ae32",
   "metadata": {},
   "outputs": [],
   "source": [
    "racmo_3H = xr.Dataset()\n",
    "for da_name in da_names:\n",
    "    da = racmo_3H_1[da_name]\n",
    "    da_chunked = da.chunk(new_chunk_sizes.get(da_name,{}))\n",
    "    racmo_3H[da_name] = da_chunked"
   ]
  },
  {
   "cell_type": "code",
   "execution_count": 14,
   "id": "045f620b-edc3-4929-96f1-eeb19c1f6d90",
   "metadata": {},
   "outputs": [
    {
     "data": {
      "text/plain": [
       "((2000, 2000, 2000, 2000, 2000, 2000, 2000, 1088),\n",
       " (1,),\n",
       " (100, 100, 94),\n",
       " (100, 100, 100, 90))"
      ]
     },
     "execution_count": 14,
     "metadata": {},
     "output_type": "execute_result"
    }
   ],
   "source": [
    "racmo_3H.t2m.chunks"
   ]
  },
  {
   "cell_type": "code",
   "execution_count": 15,
   "id": "09d163ab-1dfa-4277-a21d-d107a22c6a02",
   "metadata": {},
   "outputs": [
    {
     "data": {
      "text/plain": [
       "6.92380574"
      ]
     },
     "execution_count": 15,
     "metadata": {},
     "output_type": "execute_result"
    }
   ],
   "source": [
    "racmo_3H.nbytes/1e9"
   ]
  },
  {
   "cell_type": "markdown",
   "id": "f0062708-e119-45c6-8866-cc4fa6e59922",
   "metadata": {
    "tags": []
   },
   "source": [
    "#### Writing to Google Bucket"
   ]
  },
  {
   "cell_type": "code",
   "execution_count": null,
   "id": "f3210921-dca9-4560-8e76-6cff61bc9f50",
   "metadata": {},
   "outputs": [],
   "source": [
    "filename = 'gs://ldeo-glaciology/RACMO/AP_3H'\n",
    "mapper = fsspec.get_mapper(filename, mode='w',token=token)\n",
    "racmo.to_zarr(mapper)"
   ]
  },
  {
   "cell_type": "code",
   "execution_count": null,
   "id": "f76b6537-509a-4681-94d5-cc9fca8ee548",
   "metadata": {},
   "outputs": [],
   "source": []
  }
 ],
 "metadata": {
  "kernelspec": {
   "display_name": "Python 3 (ipykernel)",
   "language": "python",
   "name": "python3"
  },
  "language_info": {
   "codemirror_mode": {
    "name": "ipython",
    "version": 3
   },
   "file_extension": ".py",
   "mimetype": "text/x-python",
   "name": "python",
   "nbconvert_exporter": "python",
   "pygments_lexer": "ipython3",
   "version": "3.10.8"
  }
 },
 "nbformat": 4,
 "nbformat_minor": 5
}
